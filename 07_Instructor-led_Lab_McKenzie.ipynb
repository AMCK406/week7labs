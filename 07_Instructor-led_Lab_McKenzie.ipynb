{
 "cells": [
  {
   "cell_type": "markdown",
   "id": "48e288b2-92e0-4c23-bbeb-3fc39050c31c",
   "metadata": {},
   "source": [
    "# Week 7 Instructor-led Lab\n",
    "## BGEN632 | University of Montana MSBA Program\n",
    "### Alex McKenzie | April 13, 2025"
   ]
  },
  {
   "cell_type": "code",
   "execution_count": 3,
   "id": "7c064141-7ded-42df-afb5-27aa5d08d944",
   "metadata": {},
   "outputs": [],
   "source": [
    "import os\n",
    "import pandas as pd\n",
    "import numpy as np\n",
    "from sklearn.model_selection import KFold\n",
    "github_teams = pd.read_csv(\"/Users/AlexMcKenzie/Library/CloudStorage/GoogleDrive-alex.c.mckenzie@gmail.com/My Drive/Education/UM Graduate School/BGEN632/Week 7/data/github_teams.csv\") # I had a hiccup here where I forgot the quotes around the file path, but ChatGPT set me straight."
   ]
  },
  {
   "cell_type": "code",
   "execution_count": 6,
   "id": "2ce7c2f3-c0ca-46da-ab31-04aaab246568",
   "metadata": {},
   "outputs": [
    {
     "name": "stdout",
     "output_type": "stream",
     "text": [
      "RangeIndex(start=0, stop=608, step=1)\n",
      "Index(['name_h', 'Team_type', 'Team_size_class', 'human_members_count',\n",
      "       'bot_members_count', 'human_work', 'work_per_human', 'human_gini',\n",
      "       'human_Push', 'human_IssueComments', 'human_PRReviewComment',\n",
      "       'human_MergedPR', 'bot_work', 'bot_Push', 'bot_IssueComments',\n",
      "       'bot_PRReviewComment', 'bot_MergedPR', 'eval_survival_day_median',\n",
      "       'issues_count'],\n",
      "      dtype='object')\n"
     ]
    }
   ],
   "source": [
    "print(github_teams.index)\n",
    "print(github_teams.columns)  \n",
    "# I felt this was a bit tricky of you, because the tutorial suggested a simple \"github_teams.rows\" command would work, but thar returned an error.  "
   ]
  },
  {
   "cell_type": "code",
   "execution_count": 7,
   "id": "9cd86fd8-9318-42ee-af89-c625fe686ff0",
   "metadata": {},
   "outputs": [
    {
     "name": "stdout",
     "output_type": "stream",
     "text": [
      "Rows: [0, 1, 2, 3, 4, 5, 6, 7, 8, 9, 10, 11, 12, 13, 14, 15, 16, 17, 18, 19, 20, 21, 22, 23, 24, 25, 26, 27, 28, 29, 30, 31, 32, 33, 34, 35, 36, 37, 38, 39, 40, 41, 42, 43, 44, 45, 46, 47, 48, 49, 50, 51, 52, 53, 54, 55, 56, 57, 58, 59, 60, 61, 62, 63, 64, 65, 66, 67, 68, 69, 70, 71, 72, 73, 74, 75, 76, 77, 78, 79, 80, 81, 82, 83, 84, 85, 86, 87, 88, 89, 90, 91, 92, 93, 94, 95, 96, 97, 98, 99, 100, 101, 102, 103, 104, 105, 106, 107, 108, 109, 110, 111, 112, 113, 114, 115, 116, 117, 118, 119, 120, 121, 122, 123, 124, 125, 126, 127, 128, 129, 130, 131, 132, 133, 134, 135, 136, 137, 138, 139, 140, 141, 142, 143, 144, 145, 146, 147, 148, 149, 150, 151, 152, 153, 154, 155, 156, 157, 158, 159, 160, 161, 162, 163, 164, 165, 166, 167, 168, 169, 170, 171, 172, 173, 174, 175, 176, 177, 178, 179, 180, 181, 182, 183, 184, 185, 186, 187, 188, 189, 190, 191, 192, 193, 194, 195, 196, 197, 198, 199, 200, 201, 202, 203, 204, 205, 206, 207, 208, 209, 210, 211, 212, 213, 214, 215, 216, 217, 218, 219, 220, 221, 222, 223, 224, 225, 226, 227, 228, 229, 230, 231, 232, 233, 234, 235, 236, 237, 238, 239, 240, 241, 242, 243, 244, 245, 246, 247, 248, 249, 250, 251, 252, 253, 254, 255, 256, 257, 258, 259, 260, 261, 262, 263, 264, 265, 266, 267, 268, 269, 270, 271, 272, 273, 274, 275, 276, 277, 278, 279, 280, 281, 282, 283, 284, 285, 286, 287, 288, 289, 290, 291, 292, 293, 294, 295, 296, 297, 298, 299, 300, 301, 302, 303, 304, 305, 306, 307, 308, 309, 310, 311, 312, 313, 314, 315, 316, 317, 318, 319, 320, 321, 322, 323, 324, 325, 326, 327, 328, 329, 330, 331, 332, 333, 334, 335, 336, 337, 338, 339, 340, 341, 342, 343, 344, 345, 346, 347, 348, 349, 350, 351, 352, 353, 354, 355, 356, 357, 358, 359, 360, 361, 362, 363, 364, 365, 366, 367, 368, 369, 370, 371, 372, 373, 374, 375, 376, 377, 378, 379, 380, 381, 382, 383, 384, 385, 386, 387, 388, 389, 390, 391, 392, 393, 394, 395, 396, 397, 398, 399, 400, 401, 402, 403, 404, 405, 406, 407, 408, 409, 410, 411, 412, 413, 414, 415, 416, 417, 418, 419, 420, 421, 422, 423, 424, 425, 426, 427, 428, 429, 430, 431, 432, 433, 434, 435, 436, 437, 438, 439, 440, 441, 442, 443, 444, 445, 446, 447, 448, 449, 450, 451, 452, 453, 454, 455, 456, 457, 458, 459, 460, 461, 462, 463, 464, 465, 466, 467, 468, 469, 470, 471, 472, 473, 474, 475, 476, 477, 478, 479, 480, 481, 482, 483, 484, 485, 486, 487, 488, 489, 490, 491, 492, 493, 494, 495, 496, 497, 498, 499, 500, 501, 502, 503, 504, 505, 506, 507, 508, 509, 510, 511, 512, 513, 514, 515, 516, 517, 518, 519, 520, 521, 522, 523, 524, 525, 526, 527, 528, 529, 530, 531, 532, 533, 534, 535, 536, 537, 538, 539, 540, 541, 542, 543, 544, 545, 546, 547, 548, 549, 550, 551, 552, 553, 554, 555, 556, 557, 558, 559, 560, 561, 562, 563, 564, 565, 566, 567, 568, 569, 570, 571, 572, 573, 574, 575, 576, 577, 578, 579, 580, 581, 582, 583, 584, 585, 586, 587, 588, 589, 590, 591, 592, 593, 594, 595, 596, 597, 598, 599, 600, 601, 602, 603, 604, 605, 606, 607]\n",
      "Columns: ['name_h', 'Team_type', 'Team_size_class', 'human_members_count', 'bot_members_count', 'human_work', 'work_per_human', 'human_gini', 'human_Push', 'human_IssueComments', 'human_PRReviewComment', 'human_MergedPR', 'bot_work', 'bot_Push', 'bot_IssueComments', 'bot_PRReviewComment', 'bot_MergedPR', 'eval_survival_day_median', 'issues_count']\n"
     ]
    }
   ],
   "source": [
    "# I didn't like how that looked, so I asked ChatGPT how to convert index and columns to lists\n",
    "rows = github_teams.index.tolist()\n",
    "columns = github_teams.columns.tolist()\n",
    "\n",
    "print(\"Rows:\", rows)\n",
    "print(\"Columns:\", columns)\n"
   ]
  },
  {
   "cell_type": "code",
   "execution_count": 10,
   "id": "d0194f2f-e906-43d3-8f35-e03dddbfa554",
   "metadata": {},
   "outputs": [
    {
     "name": "stdout",
     "output_type": "stream",
     "text": [
      "Rows: RangeIndex(start=0, stop=608, step=1)\n",
      "Columns:\n",
      "name_h\n",
      "Team_type\n",
      "Team_size_class\n",
      "human_members_count\n",
      "bot_members_count\n",
      "human_work\n",
      "work_per_human\n",
      "human_gini\n",
      "human_Push\n",
      "human_IssueComments\n",
      "human_PRReviewComment\n",
      "human_MergedPR\n",
      "bot_work\n",
      "bot_Push\n",
      "bot_IssueComments\n",
      "bot_PRReviewComment\n",
      "bot_MergedPR\n",
      "eval_survival_day_median\n",
      "issues_count\n"
     ]
    }
   ],
   "source": [
    "# This was still pretty ugly, so I converted to:  \n",
    "\n",
    "# Rows are printed as a RangeIndex (which you like)\n",
    "print(\"Rows:\", github_teams.index)\n",
    "\n",
    "# Loop over the columns and print each on a new line\n",
    "print(\"Columns:\")\n",
    "for col in github_teams.columns:\n",
    "    print(col)\n"
   ]
  },
  {
   "cell_type": "code",
   "execution_count": 12,
   "id": "4c06679f-5124-40af-8782-a147d6ca6a0e",
   "metadata": {},
   "outputs": [
    {
     "name": "stdout",
     "output_type": "stream",
     "text": [
      "Number of rows: 608\n",
      "Number of columns: 19\n"
     ]
    }
   ],
   "source": [
    "print(\"Number of rows:\", len(github_teams.index))\n",
    "print(\"Number of columns:\", len(github_teams.columns))\n"
   ]
  },
  {
   "cell_type": "code",
   "execution_count": 14,
   "id": "4209fcf5-7a38-4a3d-98d8-9ed15cb34a45",
   "metadata": {},
   "outputs": [
    {
     "name": "stdout",
     "output_type": "stream",
     "text": [
      "Number of unique values in 'Team_type': 2\n",
      "Number of unique values in 'Team_size_class': 3\n"
     ]
    }
   ],
   "source": [
    "unique_team_type_count = len(pd.unique(github_teams.Team_type))\n",
    "unique_team_size_class_count = len(pd.unique(github_teams.Team_size_class))\n",
    "\n",
    "print(\"Number of unique values in 'Team_type':\", unique_team_type_count)\n",
    "print(\"Number of unique values in 'Team_size_class':\", unique_team_size_class_count)"
   ]
  },
  {
   "cell_type": "code",
   "execution_count": 16,
   "id": "b16bdd71-5df6-4990-9e18-460131141e00",
   "metadata": {},
   "outputs": [
    {
     "data": {
      "text/plain": [
       "35"
      ]
     },
     "execution_count": 16,
     "metadata": {},
     "output_type": "execute_result"
    }
   ],
   "source": [
    "github_teams.iloc[62,5] # I did this one all on my own! Progress!"
   ]
  },
  {
   "cell_type": "code",
   "execution_count": 29,
   "id": "9adcc2f1-6947-4e47-a938-0e67624ef567",
   "metadata": {},
   "outputs": [
    {
     "data": {
      "text/plain": [
       "name_h                      IyfocAGfAHLncCVJUujqTA/A_QZ6HlUb5sRQHhPa7SGzQ\n",
       "Team_type                                                       human-bot\n",
       "Team_size_class                                                    Medium\n",
       "human_members_count                                                     4\n",
       "bot_members_count                                                       1\n",
       "human_work                                                           1049\n",
       "work_per_human                                                     262.25\n",
       "human_gini                                                       0.448761\n",
       "human_Push                                                            739\n",
       "human_IssueComments                                                   213\n",
       "human_PRReviewComment                                                  91\n",
       "human_MergedPR                                                          6\n",
       "bot_work                                                               52\n",
       "bot_Push                                                                0\n",
       "bot_IssueComments                                                      52\n",
       "bot_PRReviewComment                                                     0\n",
       "bot_MergedPR                                                            0\n",
       "eval_survival_day_median                                             27.0\n",
       "issues_count                                                        243.0\n",
       "Name: 299, dtype: object"
      ]
     },
     "execution_count": 29,
     "metadata": {},
     "output_type": "execute_result"
    }
   ],
   "source": [
    "github_teams.iloc[299]"
   ]
  },
  {
   "cell_type": "code",
   "execution_count": 30,
   "id": "43d2e1a5-cd0f-466d-a213-46dec19368b2",
   "metadata": {},
   "outputs": [
    {
     "data": {
      "text/plain": [
       "name_h       Z7pZbUnKgDYaYhaLIGmLpw/O92cd-KLiFkunriLmVErdw\n",
       "Team_type                                        human-bot\n",
       "Name: 594, dtype: object"
      ]
     },
     "execution_count": 30,
     "metadata": {},
     "output_type": "execute_result"
    }
   ],
   "source": [
    "github_teams.iloc[594, 0:2]"
   ]
  },
  {
   "cell_type": "code",
   "execution_count": 31,
   "id": "732fff66-918d-4c81-abe6-cec775ee5f0e",
   "metadata": {},
   "outputs": [
    {
     "data": {
      "text/plain": [
       "name_h             Z7pZbUnKgDYaYhaLIGmLpw/O92cd-KLiFkunriLmVErdw\n",
       "Team_type                                              human-bot\n",
       "Team_size_class                                            Small\n",
       "Name: 594, dtype: object"
      ]
     },
     "execution_count": 31,
     "metadata": {},
     "output_type": "execute_result"
    }
   ],
   "source": [
    "github_teams.iloc[594, :3]"
   ]
  },
  {
   "cell_type": "code",
   "execution_count": 32,
   "id": "28f36e6b-15d6-45fe-ab88-ff45c0e600d9",
   "metadata": {},
   "outputs": [
    {
     "data": {
      "text/plain": [
       "name_h             Z7pZbUnKgDYaYhaLIGmLpw/O92cd-KLiFkunriLmVErdw\n",
       "Team_type                                              human-bot\n",
       "Team_size_class                                            Small\n",
       "Name: 594, dtype: object"
      ]
     },
     "execution_count": 32,
     "metadata": {},
     "output_type": "execute_result"
    }
   ],
   "source": [
    "github_teams.iloc[594, [0,1,2]]"
   ]
  },
  {
   "cell_type": "code",
   "execution_count": 33,
   "id": "822ec6bf-71c8-4f9e-9096-cff75de8ce98",
   "metadata": {},
   "outputs": [
    {
     "data": {
      "text/plain": [
       "Team_size_class    Small\n",
       "work_per_human      14.0\n",
       "Name: 45, dtype: object"
      ]
     },
     "execution_count": 33,
     "metadata": {},
     "output_type": "execute_result"
    }
   ],
   "source": [
    "github_teams.iloc[45,[2,6]]"
   ]
  },
  {
   "cell_type": "code",
   "execution_count": 39,
   "id": "e0e3b346-f569-4841-935e-5323cb3d0a4f",
   "metadata": {},
   "outputs": [
    {
     "data": {
      "text/plain": [
       "human_members_count      2\n",
       "human_gini             0.0\n",
       "Name: 45, dtype: object"
      ]
     },
     "execution_count": 39,
     "metadata": {},
     "output_type": "execute_result"
    }
   ],
   "source": [
    "github_teams.loc[45, ['human_members_count', 'human_gini']] # I was flying solo until this question. I had the right idea, but got lost on the iloc vs loc command."
   ]
  },
  {
   "cell_type": "markdown",
   "id": "87bea383-b046-4ddf-8076-317e30f467bd",
   "metadata": {},
   "source": [
    "### Data frame question:\n",
    "\n",
    "#### I was quite lost here, even while reviewing the tutorial. My interpretation of your tutorial was that the creation of a new data frame was for adding some new data; but here I could tell your request was a bit different. I was hoping to figure this one out myself, but it turns out I was fundamentally lost on the underlying concept of a data frame. I spent some time reviewing your lessons, and still had to go back to ChatGPT to get properly oriented..."
   ]
  },
  {
   "cell_type": "code",
   "execution_count": 40,
   "id": "0d59a1b8-094b-4556-bcff-4df3b8be0fcb",
   "metadata": {},
   "outputs": [],
   "source": [
    "# This returns a new DataFrame with just the 'bot_work' column.\n",
    "bot_work_df = github_teams[['bot_work']]"
   ]
  },
  {
   "cell_type": "code",
   "execution_count": 41,
   "id": "2663e57a-d89c-4f1f-86bd-680a97b35701",
   "metadata": {},
   "outputs": [],
   "source": [
    "# This gets the 'bot_work' column as a Series and then converts it to a DataFrame, thereby preserving the original data architecture.\n",
    "bot_work_df = github_teams['bot_work'].to_frame()"
   ]
  },
  {
   "cell_type": "code",
   "execution_count": 57,
   "id": "ea08bd32-5d55-4fe7-9dbf-758345599a33",
   "metadata": {},
   "outputs": [
    {
     "data": {
      "text/html": [
       "<div>\n",
       "<style scoped>\n",
       "    .dataframe tbody tr th:only-of-type {\n",
       "        vertical-align: middle;\n",
       "    }\n",
       "\n",
       "    .dataframe tbody tr th {\n",
       "        vertical-align: top;\n",
       "    }\n",
       "\n",
       "    .dataframe thead th {\n",
       "        text-align: right;\n",
       "    }\n",
       "</style>\n",
       "<table border=\"1\" class=\"dataframe\">\n",
       "  <thead>\n",
       "    <tr style=\"text-align: right;\">\n",
       "      <th></th>\n",
       "      <th>name_h</th>\n",
       "      <th>Team_type</th>\n",
       "      <th>Team_size_class</th>\n",
       "      <th>human_members_count</th>\n",
       "      <th>bot_members_count</th>\n",
       "      <th>human_work</th>\n",
       "      <th>work_per_human</th>\n",
       "      <th>human_gini</th>\n",
       "      <th>human_Push</th>\n",
       "      <th>human_IssueComments</th>\n",
       "      <th>human_PRReviewComment</th>\n",
       "      <th>human_MergedPR</th>\n",
       "      <th>bot_work</th>\n",
       "      <th>bot_Push</th>\n",
       "      <th>bot_IssueComments</th>\n",
       "      <th>bot_PRReviewComment</th>\n",
       "      <th>bot_MergedPR</th>\n",
       "      <th>eval_survival_day_median</th>\n",
       "      <th>issues_count</th>\n",
       "    </tr>\n",
       "  </thead>\n",
       "  <tbody>\n",
       "    <tr>\n",
       "      <th>138</th>\n",
       "      <td>ASYGR96YA91p3z7MNKjZCA/IB2pZ8ygcvNnlxUdysjSFA</td>\n",
       "      <td>human</td>\n",
       "      <td>Large</td>\n",
       "      <td>12</td>\n",
       "      <td>0</td>\n",
       "      <td>1655</td>\n",
       "      <td>137.916667</td>\n",
       "      <td>0.799446</td>\n",
       "      <td>793</td>\n",
       "      <td>684</td>\n",
       "      <td>178</td>\n",
       "      <td>0</td>\n",
       "      <td>0</td>\n",
       "      <td>0</td>\n",
       "      <td>0</td>\n",
       "      <td>0</td>\n",
       "      <td>0</td>\n",
       "      <td>4.0</td>\n",
       "      <td>190.0</td>\n",
       "    </tr>\n",
       "    <tr>\n",
       "      <th>285</th>\n",
       "      <td>IiUao8vA_zm_uEIVVLI-Sw/91ya8vlSP8qgwCllH_6BSw</td>\n",
       "      <td>human</td>\n",
       "      <td>Large</td>\n",
       "      <td>25</td>\n",
       "      <td>0</td>\n",
       "      <td>3599</td>\n",
       "      <td>143.960000</td>\n",
       "      <td>0.863507</td>\n",
       "      <td>1249</td>\n",
       "      <td>2350</td>\n",
       "      <td>0</td>\n",
       "      <td>0</td>\n",
       "      <td>0</td>\n",
       "      <td>0</td>\n",
       "      <td>0</td>\n",
       "      <td>0</td>\n",
       "      <td>0</td>\n",
       "      <td>0.0</td>\n",
       "      <td>1245.0</td>\n",
       "    </tr>\n",
       "    <tr>\n",
       "      <th>505</th>\n",
       "      <td>uLHPO58cQefwrJUbyhYOKQ/7YWOP8uDEeKDHQMWKqOoYA</td>\n",
       "      <td>human</td>\n",
       "      <td>Large</td>\n",
       "      <td>48</td>\n",
       "      <td>0</td>\n",
       "      <td>5748</td>\n",
       "      <td>119.750000</td>\n",
       "      <td>0.782040</td>\n",
       "      <td>1715</td>\n",
       "      <td>3891</td>\n",
       "      <td>142</td>\n",
       "      <td>0</td>\n",
       "      <td>0</td>\n",
       "      <td>0</td>\n",
       "      <td>0</td>\n",
       "      <td>0</td>\n",
       "      <td>0</td>\n",
       "      <td>0.0</td>\n",
       "      <td>1200.0</td>\n",
       "    </tr>\n",
       "    <tr>\n",
       "      <th>582</th>\n",
       "      <td>y8Jw59EHVSrsluSuhR5okg/V5vb074jNkzg4YCKforX1Q</td>\n",
       "      <td>human</td>\n",
       "      <td>Large</td>\n",
       "      <td>8</td>\n",
       "      <td>0</td>\n",
       "      <td>277</td>\n",
       "      <td>34.625000</td>\n",
       "      <td>0.781137</td>\n",
       "      <td>275</td>\n",
       "      <td>2</td>\n",
       "      <td>0</td>\n",
       "      <td>0</td>\n",
       "      <td>0</td>\n",
       "      <td>0</td>\n",
       "      <td>0</td>\n",
       "      <td>0</td>\n",
       "      <td>0</td>\n",
       "      <td>NaN</td>\n",
       "      <td>NaN</td>\n",
       "    </tr>\n",
       "  </tbody>\n",
       "</table>\n",
       "</div>"
      ],
      "text/plain": [
       "                                            name_h Team_type Team_size_class  \\\n",
       "138  ASYGR96YA91p3z7MNKjZCA/IB2pZ8ygcvNnlxUdysjSFA     human           Large   \n",
       "285  IiUao8vA_zm_uEIVVLI-Sw/91ya8vlSP8qgwCllH_6BSw     human           Large   \n",
       "505  uLHPO58cQefwrJUbyhYOKQ/7YWOP8uDEeKDHQMWKqOoYA     human           Large   \n",
       "582  y8Jw59EHVSrsluSuhR5okg/V5vb074jNkzg4YCKforX1Q     human           Large   \n",
       "\n",
       "     human_members_count  bot_members_count  human_work  work_per_human  \\\n",
       "138                   12                  0        1655      137.916667   \n",
       "285                   25                  0        3599      143.960000   \n",
       "505                   48                  0        5748      119.750000   \n",
       "582                    8                  0         277       34.625000   \n",
       "\n",
       "     human_gini  human_Push  human_IssueComments  human_PRReviewComment  \\\n",
       "138    0.799446         793                  684                    178   \n",
       "285    0.863507        1249                 2350                      0   \n",
       "505    0.782040        1715                 3891                    142   \n",
       "582    0.781137         275                    2                      0   \n",
       "\n",
       "     human_MergedPR  bot_work  bot_Push  bot_IssueComments  \\\n",
       "138               0         0         0                  0   \n",
       "285               0         0         0                  0   \n",
       "505               0         0         0                  0   \n",
       "582               0         0         0                  0   \n",
       "\n",
       "     bot_PRReviewComment  bot_MergedPR  eval_survival_day_median  issues_count  \n",
       "138                    0             0                       4.0         190.0  \n",
       "285                    0             0                       0.0        1245.0  \n",
       "505                    0             0                       0.0        1200.0  \n",
       "582                    0             0                       NaN           NaN  "
      ]
     },
     "metadata": {},
     "output_type": "display_data"
    }
   ],
   "source": [
    "human_bot_teams = github_teams[(github_teams['Team_type'] == 'human-bot') & \n",
    "                               (github_teams['bot_members_count'] >= 2)]\n",
    "display(teams)"
   ]
  },
  {
   "cell_type": "code",
   "execution_count": 54,
   "id": "21d2c0fb-0b78-43d3-b622-02436592b1d3",
   "metadata": {},
   "outputs": [
    {
     "ename": "SyntaxError",
     "evalue": "incomplete input (161359707.py, line 3)",
     "output_type": "error",
     "traceback": [
      "\u001b[0;36m  Cell \u001b[0;32mIn[54], line 3\u001b[0;36m\u001b[0m\n\u001b[0;31m    teams = github_teams[(github_teams['Team_type'] == 'human') & (github_teams['human'] == 'Large')] & (github_teams['human_gini'] >= '0.75'\u001b[0m\n\u001b[0m                                                                                                                                             ^\u001b[0m\n\u001b[0;31mSyntaxError\u001b[0m\u001b[0;31m:\u001b[0m incomplete input\n"
     ]
    }
   ],
   "source": [
    "# I'm really trying to get better at doing the coding on my own. Here's what I came up with:\n",
    "\n",
    "teams = github_teams[(github_teams['Team_type'] == 'human') & (github_teams['human'] == 'Large')] & (github_teams['human_gini'] >= '0.75'"
   ]
  },
  {
   "cell_type": "code",
   "execution_count": 56,
   "id": "aed96d3b-bb46-4d2a-8c39-c1583a4fb4e9",
   "metadata": {},
   "outputs": [
    {
     "data": {
      "text/html": [
       "<div>\n",
       "<style scoped>\n",
       "    .dataframe tbody tr th:only-of-type {\n",
       "        vertical-align: middle;\n",
       "    }\n",
       "\n",
       "    .dataframe tbody tr th {\n",
       "        vertical-align: top;\n",
       "    }\n",
       "\n",
       "    .dataframe thead th {\n",
       "        text-align: right;\n",
       "    }\n",
       "</style>\n",
       "<table border=\"1\" class=\"dataframe\">\n",
       "  <thead>\n",
       "    <tr style=\"text-align: right;\">\n",
       "      <th></th>\n",
       "      <th>name_h</th>\n",
       "      <th>Team_type</th>\n",
       "      <th>Team_size_class</th>\n",
       "      <th>human_members_count</th>\n",
       "      <th>bot_members_count</th>\n",
       "      <th>human_work</th>\n",
       "      <th>work_per_human</th>\n",
       "      <th>human_gini</th>\n",
       "      <th>human_Push</th>\n",
       "      <th>human_IssueComments</th>\n",
       "      <th>human_PRReviewComment</th>\n",
       "      <th>human_MergedPR</th>\n",
       "      <th>bot_work</th>\n",
       "      <th>bot_Push</th>\n",
       "      <th>bot_IssueComments</th>\n",
       "      <th>bot_PRReviewComment</th>\n",
       "      <th>bot_MergedPR</th>\n",
       "      <th>eval_survival_day_median</th>\n",
       "      <th>issues_count</th>\n",
       "    </tr>\n",
       "  </thead>\n",
       "  <tbody>\n",
       "    <tr>\n",
       "      <th>138</th>\n",
       "      <td>ASYGR96YA91p3z7MNKjZCA/IB2pZ8ygcvNnlxUdysjSFA</td>\n",
       "      <td>human</td>\n",
       "      <td>Large</td>\n",
       "      <td>12</td>\n",
       "      <td>0</td>\n",
       "      <td>1655</td>\n",
       "      <td>137.916667</td>\n",
       "      <td>0.799446</td>\n",
       "      <td>793</td>\n",
       "      <td>684</td>\n",
       "      <td>178</td>\n",
       "      <td>0</td>\n",
       "      <td>0</td>\n",
       "      <td>0</td>\n",
       "      <td>0</td>\n",
       "      <td>0</td>\n",
       "      <td>0</td>\n",
       "      <td>4.0</td>\n",
       "      <td>190.0</td>\n",
       "    </tr>\n",
       "    <tr>\n",
       "      <th>285</th>\n",
       "      <td>IiUao8vA_zm_uEIVVLI-Sw/91ya8vlSP8qgwCllH_6BSw</td>\n",
       "      <td>human</td>\n",
       "      <td>Large</td>\n",
       "      <td>25</td>\n",
       "      <td>0</td>\n",
       "      <td>3599</td>\n",
       "      <td>143.960000</td>\n",
       "      <td>0.863507</td>\n",
       "      <td>1249</td>\n",
       "      <td>2350</td>\n",
       "      <td>0</td>\n",
       "      <td>0</td>\n",
       "      <td>0</td>\n",
       "      <td>0</td>\n",
       "      <td>0</td>\n",
       "      <td>0</td>\n",
       "      <td>0</td>\n",
       "      <td>0.0</td>\n",
       "      <td>1245.0</td>\n",
       "    </tr>\n",
       "    <tr>\n",
       "      <th>505</th>\n",
       "      <td>uLHPO58cQefwrJUbyhYOKQ/7YWOP8uDEeKDHQMWKqOoYA</td>\n",
       "      <td>human</td>\n",
       "      <td>Large</td>\n",
       "      <td>48</td>\n",
       "      <td>0</td>\n",
       "      <td>5748</td>\n",
       "      <td>119.750000</td>\n",
       "      <td>0.782040</td>\n",
       "      <td>1715</td>\n",
       "      <td>3891</td>\n",
       "      <td>142</td>\n",
       "      <td>0</td>\n",
       "      <td>0</td>\n",
       "      <td>0</td>\n",
       "      <td>0</td>\n",
       "      <td>0</td>\n",
       "      <td>0</td>\n",
       "      <td>0.0</td>\n",
       "      <td>1200.0</td>\n",
       "    </tr>\n",
       "    <tr>\n",
       "      <th>582</th>\n",
       "      <td>y8Jw59EHVSrsluSuhR5okg/V5vb074jNkzg4YCKforX1Q</td>\n",
       "      <td>human</td>\n",
       "      <td>Large</td>\n",
       "      <td>8</td>\n",
       "      <td>0</td>\n",
       "      <td>277</td>\n",
       "      <td>34.625000</td>\n",
       "      <td>0.781137</td>\n",
       "      <td>275</td>\n",
       "      <td>2</td>\n",
       "      <td>0</td>\n",
       "      <td>0</td>\n",
       "      <td>0</td>\n",
       "      <td>0</td>\n",
       "      <td>0</td>\n",
       "      <td>0</td>\n",
       "      <td>0</td>\n",
       "      <td>NaN</td>\n",
       "      <td>NaN</td>\n",
       "    </tr>\n",
       "  </tbody>\n",
       "</table>\n",
       "</div>"
      ],
      "text/plain": [
       "                                            name_h Team_type Team_size_class  \\\n",
       "138  ASYGR96YA91p3z7MNKjZCA/IB2pZ8ygcvNnlxUdysjSFA     human           Large   \n",
       "285  IiUao8vA_zm_uEIVVLI-Sw/91ya8vlSP8qgwCllH_6BSw     human           Large   \n",
       "505  uLHPO58cQefwrJUbyhYOKQ/7YWOP8uDEeKDHQMWKqOoYA     human           Large   \n",
       "582  y8Jw59EHVSrsluSuhR5okg/V5vb074jNkzg4YCKforX1Q     human           Large   \n",
       "\n",
       "     human_members_count  bot_members_count  human_work  work_per_human  \\\n",
       "138                   12                  0        1655      137.916667   \n",
       "285                   25                  0        3599      143.960000   \n",
       "505                   48                  0        5748      119.750000   \n",
       "582                    8                  0         277       34.625000   \n",
       "\n",
       "     human_gini  human_Push  human_IssueComments  human_PRReviewComment  \\\n",
       "138    0.799446         793                  684                    178   \n",
       "285    0.863507        1249                 2350                      0   \n",
       "505    0.782040        1715                 3891                    142   \n",
       "582    0.781137         275                    2                      0   \n",
       "\n",
       "     human_MergedPR  bot_work  bot_Push  bot_IssueComments  \\\n",
       "138               0         0         0                  0   \n",
       "285               0         0         0                  0   \n",
       "505               0         0         0                  0   \n",
       "582               0         0         0                  0   \n",
       "\n",
       "     bot_PRReviewComment  bot_MergedPR  eval_survival_day_median  issues_count  \n",
       "138                    0             0                       4.0         190.0  \n",
       "285                    0             0                       0.0        1245.0  \n",
       "505                    0             0                       0.0        1200.0  \n",
       "582                    0             0                       NaN           NaN  "
      ]
     },
     "metadata": {},
     "output_type": "display_data"
    }
   ],
   "source": [
    "# It returned an error, so I went to the oracle and came back with:\n",
    "\n",
    "teams = github_teams[\n",
    "    (github_teams['Team_type'] == 'human') &\n",
    "    (github_teams['Team_size_class'] == 'Large') &\n",
    "    (github_teams['human_gini'] >= 0.75)\n",
    "]\n",
    "display(teams)\n",
    "\n",
    "# So it looks like I'm getting a better handle on syntax, but the formatting is still challenging for me."
   ]
  },
  {
   "cell_type": "code",
   "execution_count": 60,
   "id": "3d4c544a-9f4d-4226-8e5c-1befec243638",
   "metadata": {},
   "outputs": [
    {
     "name": "stdout",
     "output_type": "stream",
     "text": [
      "Number of Small Teams: 281\n",
      "Number of Large Teams: 147\n"
     ]
    }
   ],
   "source": [
    "# I struggled with the team size count question. Here was my original code:\n",
    "\n",
    "# unique_team_size_count1 = 'Small'  \n",
    "# unique_team_size_count = 'Large'  \n",
    "\n",
    "# print(\"Number of Small Teams:\", unique_team_size_count1)  \n",
    "# print(\"Number of Large Teams:\", unique_team_size_count2)  \n",
    "\n",
    "# It returned an error, so I sought help and got:\n",
    "\n",
    "small_count = len(github_teams[github_teams['Team_size_class'] == 'Small'])\n",
    "large_count = len(github_teams[github_teams['Team_size_class'] == 'Large'])\n",
    "\n",
    "print(\"Number of Small Teams:\", small_count)\n",
    "print(\"Number of Large Teams:\", large_count)\n"
   ]
  },
  {
   "cell_type": "code",
   "execution_count": 61,
   "id": "cfc452fc-2bd6-40af-aa4c-4d4a14f37a3f",
   "metadata": {},
   "outputs": [
    {
     "ename": "KeyError",
     "evalue": "'Team_size'",
     "output_type": "error",
     "traceback": [
      "\u001b[0;31m---------------------------------------------------------------------------\u001b[0m",
      "\u001b[0;31mKeyError\u001b[0m                                  Traceback (most recent call last)",
      "File \u001b[0;32m/opt/anaconda3/lib/python3.12/site-packages/pandas/core/indexes/base.py:3805\u001b[0m, in \u001b[0;36mIndex.get_loc\u001b[0;34m(self, key)\u001b[0m\n\u001b[1;32m   3804\u001b[0m \u001b[38;5;28;01mtry\u001b[39;00m:\n\u001b[0;32m-> 3805\u001b[0m     \u001b[38;5;28;01mreturn\u001b[39;00m \u001b[38;5;28mself\u001b[39m\u001b[38;5;241m.\u001b[39m_engine\u001b[38;5;241m.\u001b[39mget_loc(casted_key)\n\u001b[1;32m   3806\u001b[0m \u001b[38;5;28;01mexcept\u001b[39;00m \u001b[38;5;167;01mKeyError\u001b[39;00m \u001b[38;5;28;01mas\u001b[39;00m err:\n",
      "File \u001b[0;32mindex.pyx:167\u001b[0m, in \u001b[0;36mpandas._libs.index.IndexEngine.get_loc\u001b[0;34m()\u001b[0m\n",
      "File \u001b[0;32mindex.pyx:196\u001b[0m, in \u001b[0;36mpandas._libs.index.IndexEngine.get_loc\u001b[0;34m()\u001b[0m\n",
      "File \u001b[0;32mpandas/_libs/hashtable_class_helper.pxi:7081\u001b[0m, in \u001b[0;36mpandas._libs.hashtable.PyObjectHashTable.get_item\u001b[0;34m()\u001b[0m\n",
      "File \u001b[0;32mpandas/_libs/hashtable_class_helper.pxi:7089\u001b[0m, in \u001b[0;36mpandas._libs.hashtable.PyObjectHashTable.get_item\u001b[0;34m()\u001b[0m\n",
      "\u001b[0;31mKeyError\u001b[0m: 'Team_size'",
      "\nThe above exception was the direct cause of the following exception:\n",
      "\u001b[0;31mKeyError\u001b[0m                                  Traceback (most recent call last)",
      "Cell \u001b[0;32mIn[61], line 2\u001b[0m\n\u001b[1;32m      1\u001b[0m teams \u001b[38;5;241m=\u001b[39m github_teams[\n\u001b[0;32m----> 2\u001b[0m     (github_teams[\u001b[38;5;124m'\u001b[39m\u001b[38;5;124mTeam_size\u001b[39m\u001b[38;5;124m'\u001b[39m] \u001b[38;5;241m==\u001b[39m \u001b[38;5;124m'\u001b[39m\u001b[38;5;124mSmall\u001b[39m\u001b[38;5;124m'\u001b[39m, \u001b[38;5;124m'\u001b[39m\u001b[38;5;124mLarge\u001b[39m\u001b[38;5;124m'\u001b[39m) \u001b[38;5;241m&\u001b[39m\n\u001b[1;32m      3\u001b[0m     (github_teams[\u001b[38;5;124m'\u001b[39m\u001b[38;5;124mhuman_gini\u001b[39m\u001b[38;5;124m'\u001b[39m] \u001b[38;5;241m<\u001b[39m\u001b[38;5;241m=\u001b[39m \u001b[38;5;241m0.20\u001b[39m)\n\u001b[1;32m      4\u001b[0m ]\n\u001b[1;32m      5\u001b[0m display(teams)\n",
      "File \u001b[0;32m/opt/anaconda3/lib/python3.12/site-packages/pandas/core/frame.py:4102\u001b[0m, in \u001b[0;36mDataFrame.__getitem__\u001b[0;34m(self, key)\u001b[0m\n\u001b[1;32m   4100\u001b[0m \u001b[38;5;28;01mif\u001b[39;00m \u001b[38;5;28mself\u001b[39m\u001b[38;5;241m.\u001b[39mcolumns\u001b[38;5;241m.\u001b[39mnlevels \u001b[38;5;241m>\u001b[39m \u001b[38;5;241m1\u001b[39m:\n\u001b[1;32m   4101\u001b[0m     \u001b[38;5;28;01mreturn\u001b[39;00m \u001b[38;5;28mself\u001b[39m\u001b[38;5;241m.\u001b[39m_getitem_multilevel(key)\n\u001b[0;32m-> 4102\u001b[0m indexer \u001b[38;5;241m=\u001b[39m \u001b[38;5;28mself\u001b[39m\u001b[38;5;241m.\u001b[39mcolumns\u001b[38;5;241m.\u001b[39mget_loc(key)\n\u001b[1;32m   4103\u001b[0m \u001b[38;5;28;01mif\u001b[39;00m is_integer(indexer):\n\u001b[1;32m   4104\u001b[0m     indexer \u001b[38;5;241m=\u001b[39m [indexer]\n",
      "File \u001b[0;32m/opt/anaconda3/lib/python3.12/site-packages/pandas/core/indexes/base.py:3812\u001b[0m, in \u001b[0;36mIndex.get_loc\u001b[0;34m(self, key)\u001b[0m\n\u001b[1;32m   3807\u001b[0m     \u001b[38;5;28;01mif\u001b[39;00m \u001b[38;5;28misinstance\u001b[39m(casted_key, \u001b[38;5;28mslice\u001b[39m) \u001b[38;5;129;01mor\u001b[39;00m (\n\u001b[1;32m   3808\u001b[0m         \u001b[38;5;28misinstance\u001b[39m(casted_key, abc\u001b[38;5;241m.\u001b[39mIterable)\n\u001b[1;32m   3809\u001b[0m         \u001b[38;5;129;01mand\u001b[39;00m \u001b[38;5;28many\u001b[39m(\u001b[38;5;28misinstance\u001b[39m(x, \u001b[38;5;28mslice\u001b[39m) \u001b[38;5;28;01mfor\u001b[39;00m x \u001b[38;5;129;01min\u001b[39;00m casted_key)\n\u001b[1;32m   3810\u001b[0m     ):\n\u001b[1;32m   3811\u001b[0m         \u001b[38;5;28;01mraise\u001b[39;00m InvalidIndexError(key)\n\u001b[0;32m-> 3812\u001b[0m     \u001b[38;5;28;01mraise\u001b[39;00m \u001b[38;5;167;01mKeyError\u001b[39;00m(key) \u001b[38;5;28;01mfrom\u001b[39;00m \u001b[38;5;21;01merr\u001b[39;00m\n\u001b[1;32m   3813\u001b[0m \u001b[38;5;28;01mexcept\u001b[39;00m \u001b[38;5;167;01mTypeError\u001b[39;00m:\n\u001b[1;32m   3814\u001b[0m     \u001b[38;5;66;03m# If we have a listlike key, _check_indexing_error will raise\u001b[39;00m\n\u001b[1;32m   3815\u001b[0m     \u001b[38;5;66;03m#  InvalidIndexError. Otherwise we fall through and re-raise\u001b[39;00m\n\u001b[1;32m   3816\u001b[0m     \u001b[38;5;66;03m#  the TypeError.\u001b[39;00m\n\u001b[1;32m   3817\u001b[0m     \u001b[38;5;28mself\u001b[39m\u001b[38;5;241m.\u001b[39m_check_indexing_error(key)\n",
      "\u001b[0;31mKeyError\u001b[0m: 'Team_size'"
     ]
    }
   ],
   "source": [
    "# Dang! I'm getting so close!\n",
    "\n",
    "# teams = github_teams[  \n",
    "#     (github_teams['Team_size'] == 'Small', 'Large') &  \n",
    "#     (github_teams['human_gini'] <= 0.20)  \n",
    "# ]  \n",
    "# display(teams)  \n",
    "\n",
    "# That still wasn't right, so I got help"
   ]
  },
  {
   "cell_type": "code",
   "execution_count": 67,
   "id": "b21080f9-690f-4fc3-a297-e22022b8fc24",
   "metadata": {},
   "outputs": [
    {
     "name": "stdout",
     "output_type": "stream",
     "text": [
      "Number of teams meeting the condition: 66\n"
     ]
    }
   ],
   "source": [
    "# The \".isin\" command really threw me.\n",
    "\n",
    "count_teams = github_teams[\n",
    "    github_teams['Team_size_class'].isin(['Small', 'Large']) &\n",
    "    (github_teams['human_gini'] <= 0.20)\n",
    "].shape[0]\n",
    "\n",
    "print(\"Number of teams meeting the condition:\", count_teams)"
   ]
  },
  {
   "cell_type": "code",
   "execution_count": 68,
   "id": "5512cd7f-448c-4d95-b41e-4e6cfcf0d244",
   "metadata": {},
   "outputs": [
    {
     "name": "stdout",
     "output_type": "stream",
     "text": [
      "Number of teams meeting the condition: 84\n"
     ]
    }
   ],
   "source": [
    "count_teams = github_teams[\n",
    "    github_teams['Team_type'].isin(['human-bot']) &\n",
    "    (github_teams['Team_size_class'] == 'Medium')\n",
    "].shape[0]\n",
    "\n",
    "print(\"Number of teams meeting the condition:\", count_teams)"
   ]
  },
  {
   "cell_type": "code",
   "execution_count": 69,
   "id": "744b2b8d-9853-4a34-89d8-3d681810f09e",
   "metadata": {},
   "outputs": [
    {
     "name": "stdout",
     "output_type": "stream",
     "text": [
      "                                            name_h  Team_type Team_size_class  \\\n",
      "109  7R4RlGuxT82BQcun7raI2A/qMXTUX8UDZFqbyxir5YUaA      human           Large   \n",
      "10   -2eEmMGH_9GMVVn0WImTyA/fqB6po6-zxOceVyOZhgyNg  human-bot           Large   \n",
      "184  DevSiHbJAM-XpY7qknTWIA/ZQC28gcQYc30ailijMZxIg      human          Medium   \n",
      "77   4bzOzx-_iEqw2tTZAGgCBQ/o5j7d9925hU99XzWX9CnxQ      human           Small   \n",
      "538  vpAJthlySeoTSTCzS0iH9w/WC1ULBuXAws4mFhHGkKRrg  human-bot           Small   \n",
      "..                                             ...        ...             ...   \n",
      "175  Cqre8Re6M01XbwaSHT3Kcg/Fa3_w52dfYiqleA7ZNNJWg      human           Small   \n",
      "507  uLvKXX_6CJ4zG3V_9-fGRw/YGzgdzxRGvwVZcszx5HyCA  human-bot           Small   \n",
      "352  Mm3jjXrvOd6zcmzS4gGOxw/fAKHKj6riFXfyVUj1I5xgg  human-bot          Medium   \n",
      "194  doQNUrl6BEIxCLiFg1qlsw/jiraBJMqLKwImJ6-mziS_A  human-bot          Medium   \n",
      "512  uRRk49zuEXdW4_9yY1dJYQ/nCBlsYUCZYe6TPM_Fxd5aw      human           Large   \n",
      "\n",
      "     human_members_count  bot_members_count  human_work  work_per_human  \\\n",
      "109                    9                  0         344       38.222222   \n",
      "10                    16                  1        5105      319.062500   \n",
      "184                    5                  0         367       73.400000   \n",
      "77                     2                  0          93       46.500000   \n",
      "538                    3                  1         303      101.000000   \n",
      "..                   ...                ...         ...             ...   \n",
      "175                    2                  0          28       14.000000   \n",
      "507                    3                  1         193       64.333333   \n",
      "352                    4                  1         238       59.500000   \n",
      "194                    5                  1        1075      215.000000   \n",
      "512                   22                  0        2197       99.863636   \n",
      "\n",
      "     human_gini  human_Push  human_IssueComments  human_PRReviewComment  \\\n",
      "109    0.678941         322                    8                     14   \n",
      "10     0.572931         734                 1984                   2313   \n",
      "184    0.680109         293                   74                      0   \n",
      "77     0.188172          47                   28                     18   \n",
      "538    0.521452         100                   11                    192   \n",
      "..          ...         ...                  ...                    ...   \n",
      "175    0.000000          28                    0                      0   \n",
      "507    0.542314          70                  101                     22   \n",
      "352    0.512605         102                  114                     22   \n",
      "194    0.600558         429                  426                    193   \n",
      "512    0.733335         715                 1438                     39   \n",
      "\n",
      "     human_MergedPR  bot_work  bot_Push  bot_IssueComments  \\\n",
      "109               0         0         0                  0   \n",
      "10               74       558         0                558   \n",
      "184               0         0         0                  0   \n",
      "77                0         0         0                  0   \n",
      "538               0        23        23                  0   \n",
      "..              ...       ...       ...                ...   \n",
      "175               0         0         0                  0   \n",
      "507               0        40         0                 40   \n",
      "352               0        62         0                 62   \n",
      "194              27        72         0                 72   \n",
      "512               5         0         0                  0   \n",
      "\n",
      "     bot_PRReviewComment  bot_MergedPR  eval_survival_day_median  issues_count  \n",
      "109                    0             0                       7.0          18.0  \n",
      "10                     0             0                      40.0         248.0  \n",
      "184                    0             0                     173.0         164.0  \n",
      "77                     0             0                       NaN           NaN  \n",
      "538                    0             0                       NaN           NaN  \n",
      "..                   ...           ...                       ...           ...  \n",
      "175                    0             0                       NaN           NaN  \n",
      "507                    0             0                       9.0          71.0  \n",
      "352                    0             0                     153.0          48.0  \n",
      "194                    0             0                      15.0         427.0  \n",
      "512                    0             0                      11.0         744.0  \n",
      "\n",
      "[304 rows x 19 columns]\n"
     ]
    }
   ],
   "source": [
    "subsample = github_teams.sample(frac=0.5, random_state=42)\n",
    "print(subsample)"
   ]
  },
  {
   "cell_type": "code",
   "execution_count": 70,
   "id": "1c2dac8d-f919-4f43-be16-5fcbe01aa0fd",
   "metadata": {},
   "outputs": [
    {
     "name": "stdout",
     "output_type": "stream",
     "text": [
      "Train set size: 532 Test set size: 76\n",
      "Train set size: 532 Test set size: 76\n",
      "Train set size: 532 Test set size: 76\n",
      "Train set size: 532 Test set size: 76\n",
      "Train set size: 532 Test set size: 76\n",
      "Train set size: 532 Test set size: 76\n",
      "Train set size: 532 Test set size: 76\n",
      "Train set size: 532 Test set size: 76\n"
     ]
    }
   ],
   "source": [
    "# This next one was WAY over my head! I'm not even clear on your question, and I did read the link your provided about scikit-learn package.\n",
    "\n",
    "from sklearn.model_selection import KFold\n",
    "\n",
    "# Initialize the KFold object with 8 splits\n",
    "kf = KFold(n_splits=8, shuffle=True, random_state=42)\n",
    "\n",
    "# Create a list to store train-test splits (optional)\n",
    "splits = []\n",
    "\n",
    "# Iterate over the KFold splits\n",
    "for train_index, test_index in kf.split(github_teams):\n",
    "    # Create training and test samples based on current split\n",
    "    train_fold = github_teams.iloc[train_index]\n",
    "    test_fold = github_teams.iloc[test_index]\n",
    "    splits.append((train_fold, test_fold))\n",
    "    print(\"Train set size:\", train_fold.shape[0], \"Test set size:\", test_fold.shape[0])\n"
   ]
  },
  {
   "cell_type": "code",
   "execution_count": 71,
   "id": "574da325-1c83-4301-98f0-45039b411aaa",
   "metadata": {},
   "outputs": [
    {
     "name": "stdout",
     "output_type": "stream",
     "text": [
      "   human_members_count  bot_members_count  human_work  work_per_human  \\\n",
      "0                    2                  1          66       33.000000   \n",
      "1                    2                  0          62       31.000000   \n",
      "2                    7                  0         211       30.142857   \n",
      "3                  234                 12       14579       62.303419   \n",
      "4                   38                  8        1625       42.763158   \n",
      "\n",
      "   human_gini  human_Push  human_IssueComments  human_PRReviewComment  \\\n",
      "0    0.287879          29                   33                      4   \n",
      "1    0.467742          62                    0                      0   \n",
      "2    0.499661         194                   16                      1   \n",
      "3    0.738342        1942                11430                   1170   \n",
      "4    0.666607         203                 1270                    152   \n",
      "\n",
      "   human_MergedPR  bot_work  bot_Push  bot_IssueComments  bot_PRReviewComment  \\\n",
      "0               0        43         0                 43                    0   \n",
      "1               0         0         0                  0                    0   \n",
      "2               0         0         0                  0                    0   \n",
      "3              37      1972         0               1972                    0   \n",
      "4               0       302         0                302                    0   \n",
      "\n",
      "   bot_MergedPR  eval_survival_day_median  issues_count  \n",
      "0             0                      87.0           8.0  \n",
      "1             0                       NaN           NaN  \n",
      "2             0                      37.0          46.0  \n",
      "3             0                       1.0        4757.0  \n",
      "4             0                       2.0         777.0  \n"
     ]
    }
   ],
   "source": [
    "# At this point I'm feeling pretty lost. I was making solid independent headway with this assignment, but have now hit a big comprehension wall.\n",
    "\n",
    "import numpy as np\n",
    "numeric_df = github_teams.select_dtypes(include=[np.number])\n",
    "print(numeric_df.head())"
   ]
  },
  {
   "cell_type": "code",
   "execution_count": 73,
   "id": "f2cd59bd-1840-4635-b1d5-cd503cffc665",
   "metadata": {},
   "outputs": [
    {
     "data": {
      "text/html": [
       "<div>\n",
       "<style scoped>\n",
       "    .dataframe tbody tr th:only-of-type {\n",
       "        vertical-align: middle;\n",
       "    }\n",
       "\n",
       "    .dataframe tbody tr th {\n",
       "        vertical-align: top;\n",
       "    }\n",
       "\n",
       "    .dataframe thead th {\n",
       "        text-align: right;\n",
       "    }\n",
       "</style>\n",
       "<table border=\"1\" class=\"dataframe\">\n",
       "  <thead>\n",
       "    <tr style=\"text-align: right;\">\n",
       "      <th></th>\n",
       "      <th>name_h</th>\n",
       "      <th>Team_type</th>\n",
       "      <th>Team_size_class</th>\n",
       "      <th>human_members_count</th>\n",
       "      <th>bot_members_count</th>\n",
       "      <th>human_work</th>\n",
       "      <th>work_per_human</th>\n",
       "      <th>human_gini</th>\n",
       "      <th>human_Push</th>\n",
       "      <th>human_IssueComments</th>\n",
       "      <th>human_PRReviewComment</th>\n",
       "      <th>human_MergedPR</th>\n",
       "      <th>bot_work</th>\n",
       "      <th>bot_Push</th>\n",
       "      <th>bot_IssueComments</th>\n",
       "      <th>eval_survival_day_median</th>\n",
       "      <th>issues_count</th>\n",
       "    </tr>\n",
       "  </thead>\n",
       "  <tbody>\n",
       "    <tr>\n",
       "      <th>0</th>\n",
       "      <td>_1bqaxzCk0sfQaunsjeViQ/RCEZ3CASdLXbstu9y2JQ7Q</td>\n",
       "      <td>human-bot</td>\n",
       "      <td>Small</td>\n",
       "      <td>2</td>\n",
       "      <td>1</td>\n",
       "      <td>66</td>\n",
       "      <td>33.000000</td>\n",
       "      <td>0.287879</td>\n",
       "      <td>29</td>\n",
       "      <td>33</td>\n",
       "      <td>4</td>\n",
       "      <td>0</td>\n",
       "      <td>43</td>\n",
       "      <td>0</td>\n",
       "      <td>43</td>\n",
       "      <td>87.0</td>\n",
       "      <td>8.0</td>\n",
       "    </tr>\n",
       "    <tr>\n",
       "      <th>1</th>\n",
       "      <td>_9o07rGiC7DFyi-zm91Q0g/VOgMsrjYEwFAq0BY8kHqGQ</td>\n",
       "      <td>human</td>\n",
       "      <td>Small</td>\n",
       "      <td>2</td>\n",
       "      <td>0</td>\n",
       "      <td>62</td>\n",
       "      <td>31.000000</td>\n",
       "      <td>0.467742</td>\n",
       "      <td>62</td>\n",
       "      <td>0</td>\n",
       "      <td>0</td>\n",
       "      <td>0</td>\n",
       "      <td>0</td>\n",
       "      <td>0</td>\n",
       "      <td>0</td>\n",
       "      <td>NaN</td>\n",
       "      <td>NaN</td>\n",
       "    </tr>\n",
       "    <tr>\n",
       "      <th>2</th>\n",
       "      <td>_DzK53uaZXnAX3WcC0W28g/Epc4QWw5PNBQIIdvopEHDA</td>\n",
       "      <td>human</td>\n",
       "      <td>Large</td>\n",
       "      <td>7</td>\n",
       "      <td>0</td>\n",
       "      <td>211</td>\n",
       "      <td>30.142857</td>\n",
       "      <td>0.499661</td>\n",
       "      <td>194</td>\n",
       "      <td>16</td>\n",
       "      <td>1</td>\n",
       "      <td>0</td>\n",
       "      <td>0</td>\n",
       "      <td>0</td>\n",
       "      <td>0</td>\n",
       "      <td>37.0</td>\n",
       "      <td>46.0</td>\n",
       "    </tr>\n",
       "    <tr>\n",
       "      <th>3</th>\n",
       "      <td>_l5u7I5p4thtW5SjR_9_4w/aZNCdVXta7fh7eCMzZP1CA</td>\n",
       "      <td>human-bot</td>\n",
       "      <td>Large</td>\n",
       "      <td>234</td>\n",
       "      <td>12</td>\n",
       "      <td>14579</td>\n",
       "      <td>62.303419</td>\n",
       "      <td>0.738342</td>\n",
       "      <td>1942</td>\n",
       "      <td>11430</td>\n",
       "      <td>1170</td>\n",
       "      <td>37</td>\n",
       "      <td>1972</td>\n",
       "      <td>0</td>\n",
       "      <td>1972</td>\n",
       "      <td>1.0</td>\n",
       "      <td>4757.0</td>\n",
       "    </tr>\n",
       "    <tr>\n",
       "      <th>4</th>\n",
       "      <td>_l5u7I5p4thtW5SjR_9_4w/m_FpD7PKQHqVXHn2bh7u2g</td>\n",
       "      <td>human-bot</td>\n",
       "      <td>Large</td>\n",
       "      <td>38</td>\n",
       "      <td>8</td>\n",
       "      <td>1625</td>\n",
       "      <td>42.763158</td>\n",
       "      <td>0.666607</td>\n",
       "      <td>203</td>\n",
       "      <td>1270</td>\n",
       "      <td>152</td>\n",
       "      <td>0</td>\n",
       "      <td>302</td>\n",
       "      <td>0</td>\n",
       "      <td>302</td>\n",
       "      <td>2.0</td>\n",
       "      <td>777.0</td>\n",
       "    </tr>\n",
       "    <tr>\n",
       "      <th>...</th>\n",
       "      <td>...</td>\n",
       "      <td>...</td>\n",
       "      <td>...</td>\n",
       "      <td>...</td>\n",
       "      <td>...</td>\n",
       "      <td>...</td>\n",
       "      <td>...</td>\n",
       "      <td>...</td>\n",
       "      <td>...</td>\n",
       "      <td>...</td>\n",
       "      <td>...</td>\n",
       "      <td>...</td>\n",
       "      <td>...</td>\n",
       "      <td>...</td>\n",
       "      <td>...</td>\n",
       "      <td>...</td>\n",
       "      <td>...</td>\n",
       "    </tr>\n",
       "    <tr>\n",
       "      <th>603</th>\n",
       "      <td>zTj5tlMWgotzJmQl7BP8wQ/iQ914_smScbUO8BI9JlE6A</td>\n",
       "      <td>human-bot</td>\n",
       "      <td>Small</td>\n",
       "      <td>3</td>\n",
       "      <td>1</td>\n",
       "      <td>855</td>\n",
       "      <td>285.000000</td>\n",
       "      <td>0.474854</td>\n",
       "      <td>423</td>\n",
       "      <td>59</td>\n",
       "      <td>373</td>\n",
       "      <td>0</td>\n",
       "      <td>26</td>\n",
       "      <td>0</td>\n",
       "      <td>26</td>\n",
       "      <td>NaN</td>\n",
       "      <td>NaN</td>\n",
       "    </tr>\n",
       "    <tr>\n",
       "      <th>604</th>\n",
       "      <td>zUBexdmYylGGpxiebXm6gg/sJXD2kulWzU35ijdY3SnBQ</td>\n",
       "      <td>human</td>\n",
       "      <td>Small</td>\n",
       "      <td>2</td>\n",
       "      <td>0</td>\n",
       "      <td>63</td>\n",
       "      <td>31.500000</td>\n",
       "      <td>0.436508</td>\n",
       "      <td>63</td>\n",
       "      <td>0</td>\n",
       "      <td>0</td>\n",
       "      <td>0</td>\n",
       "      <td>0</td>\n",
       "      <td>0</td>\n",
       "      <td>0</td>\n",
       "      <td>NaN</td>\n",
       "      <td>NaN</td>\n",
       "    </tr>\n",
       "    <tr>\n",
       "      <th>605</th>\n",
       "      <td>zVSBi-iRKCzLiqFwVt6hbg/8SfUBIOeWUjDoQxeUCX7wQ</td>\n",
       "      <td>human</td>\n",
       "      <td>Medium</td>\n",
       "      <td>5</td>\n",
       "      <td>0</td>\n",
       "      <td>26</td>\n",
       "      <td>5.200000</td>\n",
       "      <td>0.446154</td>\n",
       "      <td>19</td>\n",
       "      <td>5</td>\n",
       "      <td>2</td>\n",
       "      <td>0</td>\n",
       "      <td>0</td>\n",
       "      <td>0</td>\n",
       "      <td>0</td>\n",
       "      <td>NaN</td>\n",
       "      <td>NaN</td>\n",
       "    </tr>\n",
       "    <tr>\n",
       "      <th>606</th>\n",
       "      <td>zVSBi-iRKCzLiqFwVt6hbg/fm_lDWwc8Uu-aZ24BjUNZg</td>\n",
       "      <td>human</td>\n",
       "      <td>Medium</td>\n",
       "      <td>5</td>\n",
       "      <td>0</td>\n",
       "      <td>13</td>\n",
       "      <td>2.600000</td>\n",
       "      <td>0.246154</td>\n",
       "      <td>8</td>\n",
       "      <td>4</td>\n",
       "      <td>1</td>\n",
       "      <td>0</td>\n",
       "      <td>0</td>\n",
       "      <td>0</td>\n",
       "      <td>0</td>\n",
       "      <td>8.0</td>\n",
       "      <td>10.0</td>\n",
       "    </tr>\n",
       "    <tr>\n",
       "      <th>607</th>\n",
       "      <td>ZX09uvu0z_JVPVI-XrPniQ/pxiuGX_R6QI2Euvx2GFIFw</td>\n",
       "      <td>human-bot</td>\n",
       "      <td>Small</td>\n",
       "      <td>2</td>\n",
       "      <td>1</td>\n",
       "      <td>57</td>\n",
       "      <td>28.500000</td>\n",
       "      <td>0.043860</td>\n",
       "      <td>32</td>\n",
       "      <td>24</td>\n",
       "      <td>1</td>\n",
       "      <td>0</td>\n",
       "      <td>8</td>\n",
       "      <td>3</td>\n",
       "      <td>4</td>\n",
       "      <td>5.0</td>\n",
       "      <td>26.0</td>\n",
       "    </tr>\n",
       "  </tbody>\n",
       "</table>\n",
       "<p>608 rows × 17 columns</p>\n",
       "</div>"
      ],
      "text/plain": [
       "                                            name_h  Team_type Team_size_class  \\\n",
       "0    _1bqaxzCk0sfQaunsjeViQ/RCEZ3CASdLXbstu9y2JQ7Q  human-bot           Small   \n",
       "1    _9o07rGiC7DFyi-zm91Q0g/VOgMsrjYEwFAq0BY8kHqGQ      human           Small   \n",
       "2    _DzK53uaZXnAX3WcC0W28g/Epc4QWw5PNBQIIdvopEHDA      human           Large   \n",
       "3    _l5u7I5p4thtW5SjR_9_4w/aZNCdVXta7fh7eCMzZP1CA  human-bot           Large   \n",
       "4    _l5u7I5p4thtW5SjR_9_4w/m_FpD7PKQHqVXHn2bh7u2g  human-bot           Large   \n",
       "..                                             ...        ...             ...   \n",
       "603  zTj5tlMWgotzJmQl7BP8wQ/iQ914_smScbUO8BI9JlE6A  human-bot           Small   \n",
       "604  zUBexdmYylGGpxiebXm6gg/sJXD2kulWzU35ijdY3SnBQ      human           Small   \n",
       "605  zVSBi-iRKCzLiqFwVt6hbg/8SfUBIOeWUjDoQxeUCX7wQ      human          Medium   \n",
       "606  zVSBi-iRKCzLiqFwVt6hbg/fm_lDWwc8Uu-aZ24BjUNZg      human          Medium   \n",
       "607  ZX09uvu0z_JVPVI-XrPniQ/pxiuGX_R6QI2Euvx2GFIFw  human-bot           Small   \n",
       "\n",
       "     human_members_count  bot_members_count  human_work  work_per_human  \\\n",
       "0                      2                  1          66       33.000000   \n",
       "1                      2                  0          62       31.000000   \n",
       "2                      7                  0         211       30.142857   \n",
       "3                    234                 12       14579       62.303419   \n",
       "4                     38                  8        1625       42.763158   \n",
       "..                   ...                ...         ...             ...   \n",
       "603                    3                  1         855      285.000000   \n",
       "604                    2                  0          63       31.500000   \n",
       "605                    5                  0          26        5.200000   \n",
       "606                    5                  0          13        2.600000   \n",
       "607                    2                  1          57       28.500000   \n",
       "\n",
       "     human_gini  human_Push  human_IssueComments  human_PRReviewComment  \\\n",
       "0      0.287879          29                   33                      4   \n",
       "1      0.467742          62                    0                      0   \n",
       "2      0.499661         194                   16                      1   \n",
       "3      0.738342        1942                11430                   1170   \n",
       "4      0.666607         203                 1270                    152   \n",
       "..          ...         ...                  ...                    ...   \n",
       "603    0.474854         423                   59                    373   \n",
       "604    0.436508          63                    0                      0   \n",
       "605    0.446154          19                    5                      2   \n",
       "606    0.246154           8                    4                      1   \n",
       "607    0.043860          32                   24                      1   \n",
       "\n",
       "     human_MergedPR  bot_work  bot_Push  bot_IssueComments  \\\n",
       "0                 0        43         0                 43   \n",
       "1                 0         0         0                  0   \n",
       "2                 0         0         0                  0   \n",
       "3                37      1972         0               1972   \n",
       "4                 0       302         0                302   \n",
       "..              ...       ...       ...                ...   \n",
       "603               0        26         0                 26   \n",
       "604               0         0         0                  0   \n",
       "605               0         0         0                  0   \n",
       "606               0         0         0                  0   \n",
       "607               0         8         3                  4   \n",
       "\n",
       "     eval_survival_day_median  issues_count  \n",
       "0                        87.0           8.0  \n",
       "1                         NaN           NaN  \n",
       "2                        37.0          46.0  \n",
       "3                         1.0        4757.0  \n",
       "4                         2.0         777.0  \n",
       "..                        ...           ...  \n",
       "603                       NaN           NaN  \n",
       "604                       NaN           NaN  \n",
       "605                       NaN           NaN  \n",
       "606                       8.0          10.0  \n",
       "607                       5.0          26.0  \n",
       "\n",
       "[608 rows x 17 columns]"
      ]
     },
     "execution_count": 73,
     "metadata": {},
     "output_type": "execute_result"
    }
   ],
   "source": [
    "github_teams.drop(['bot_PRReviewComment', 'bot_MergedPR'], axis = 1)"
   ]
  },
  {
   "cell_type": "code",
   "execution_count": 78,
   "id": "e944ccc3-03e9-489b-8095-b402e2f594cc",
   "metadata": {},
   "outputs": [
    {
     "name": "stdout",
     "output_type": "stream",
     "text": [
      "Index(['Team_size_class', 'human_members_count'], dtype='object')\n"
     ]
    }
   ],
   "source": [
    "# Alright, back in the saddle with this one I think:\n",
    "\n",
    "new_df = github_teams[['Team_size_class', 'human_members_count']].copy()\n",
    "new_df.rename(columns={'Team_Size': 'Team_size_class', 'Humans_Count': 'human_members_count'}, inplace=True)\n",
    "print(new_df.columns)\n"
   ]
  },
  {
   "cell_type": "code",
   "execution_count": 79,
   "id": "4d386cb6-1963-414d-9d77-be04e9c579ca",
   "metadata": {},
   "outputs": [
    {
     "name": "stdout",
     "output_type": "stream",
     "text": [
      "Index(['Team_size_class', 'human_members_count'], dtype='object')\n"
     ]
    }
   ],
   "source": [
    "# Hmm, feels like I'm close here...\n",
    "\n",
    "# new_df.rename(columns = {'Team_Size':'Team_size_class'},{'Humans_Count':'human_members_count'}, inplace = True)\n",
    "# new_df.columns\n",
    "\n",
    "# Nope, so let me go to ChatGPT...I was so close!:\n",
    "\n",
    "new_df = github_teams[['Team_size_class', 'human_members_count']]\n",
    "new_df = new_df.rename(columns={'Team_Size': 'Team_size_class', 'Humans_Count': 'human_members_count'})\n",
    "print(new_df.columns)\n",
    "\n"
   ]
  },
  {
   "cell_type": "markdown",
   "id": "fc76b08f-b03a-413d-8a87-e7b88fc870fd",
   "metadata": {},
   "source": [
    "# References and Submission Notes:\n",
    "\n",
    "I used ChatGPT for this assignment\n",
    "\n",
    "https://drive.google.com/file/d/1jvIVb54uPCJQkOY42-Z8XMWNrcqnS_-m/view?usp=sharing\n",
    "\n",
    "Please note: I really wanted to focus on developing my code this week without too much reliance on ChatGPT, and wanted my work to reflect that. I personally felt I did a pretty good job of approaching the code on my own -- YMMV -- and most of my errors were smaller details in formatting or commands, rather than broad comprehension. I've opted to leave this submission in a fairly unnattractive state, so you could see where I was getting stuck."
   ]
  }
 ],
 "metadata": {
  "kernelspec": {
   "display_name": "Python 3 (ipykernel)",
   "language": "python",
   "name": "python3"
  },
  "language_info": {
   "codemirror_mode": {
    "name": "ipython",
    "version": 3
   },
   "file_extension": ".py",
   "mimetype": "text/x-python",
   "name": "python",
   "nbconvert_exporter": "python",
   "pygments_lexer": "ipython3",
   "version": "3.12.7"
  }
 },
 "nbformat": 4,
 "nbformat_minor": 5
}
